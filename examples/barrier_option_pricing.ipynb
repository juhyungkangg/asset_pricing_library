{
 "cells": [
  {
   "cell_type": "code",
   "id": "initial_id",
   "metadata": {
    "collapsed": true,
    "ExecuteTime": {
     "end_time": "2025-01-16T14:18:21.802514Z",
     "start_time": "2025-01-16T14:18:21.454979Z"
    }
   },
   "source": [
    "# 0. Import modules\n",
    "from src.instruments.vanilla_option import VanillaOption\n",
    "from src.instruments.barrier_option import BarrierOption\n",
    "from src.market_data.market import Market\n",
    "\n",
    "from src.models.black_scholes.black_scholes_pricing import BlackScholesEngine\n",
    "from src.models.pde.pde_pricing import PDEPricingEngine\n",
    "from src.models.monte_carlo.monte_carlo_pricing import MonteCarloEngine\n",
    "\n",
    "from src.valuation.valuation_request import ValuationRequest"
   ],
   "outputs": [],
   "execution_count": 1
  },
  {
   "metadata": {
    "ExecuteTime": {
     "end_time": "2025-01-16T14:18:21.809796Z",
     "start_time": "2025-01-16T14:18:21.807983Z"
    }
   },
   "cell_type": "code",
   "source": [
    "# 1. Create a Market object\n",
    "market = Market(\n",
    "    yield_curve=None,  # a yield curve object or mock\n",
    "    vol_surface_dict={},\n",
    "    spot_prices={\"STOCK_XYZ\": 100.0}\n",
    ")"
   ],
   "id": "2fb8b4acc88cde82",
   "outputs": [],
   "execution_count": 2
  },
  {
   "metadata": {
    "ExecuteTime": {
     "end_time": "2025-01-16T14:18:21.902797Z",
     "start_time": "2025-01-16T14:18:21.899226Z"
    }
   },
   "cell_type": "code",
   "source": [
    "# 2. Construct vanilla option Instruments\n",
    "\n",
    "down_and_in_call_option = BarrierOption(\n",
    "    strike=110,\n",
    "    maturity=1.0,        # 1 year\n",
    "    option_type=\"call\",\n",
    "    barrier_level=80,\n",
    "    barrier_type=\"down_and_in\",\n",
    ")\n",
    "down_and_out_call_option = BarrierOption(\n",
    "    strike=110,\n",
    "    maturity=1.0,        # 1 year\n",
    "    option_type=\"call\",\n",
    "    barrier_level=80,\n",
    "    barrier_type=\"down_and_out\",\n",
    ")\n",
    "\n",
    "up_and_in_call_option = BarrierOption(\n",
    "    strike=90,\n",
    "    maturity=1.0,        # 1 year\n",
    "    option_type=\"call\",\n",
    "    barrier_level=120,\n",
    "    barrier_type=\"up_and_in\",\n",
    ")\n",
    "up_and_out_call_option = BarrierOption(\n",
    "    strike=90,\n",
    "    maturity=1.0,        # 1 year\n",
    "    option_type=\"call\",\n",
    "    barrier_level=120,\n",
    "    barrier_type=\"up_and_out\",\n",
    ")\n",
    "\n",
    "up_and_in_put_option = BarrierOption(\n",
    "    strike=90,\n",
    "    maturity=1.0,        # 1 year\n",
    "    option_type=\"put\",\n",
    "    barrier_level=120,\n",
    "    barrier_type=\"up_and_in\",\n",
    ")\n",
    "\n",
    "up_and_out_put_option = BarrierOption(\n",
    "    strike=90,\n",
    "    maturity=1.0,        # 1 year\n",
    "    option_type=\"put\",\n",
    "    barrier_level=120,\n",
    "    barrier_type=\"up_and_out\",\n",
    ")\n",
    "\n",
    "down_and_in_put_option = BarrierOption(\n",
    "    strike=110,\n",
    "    maturity=1.0,        # 1 year\n",
    "    option_type=\"put\",\n",
    "    barrier_level=80,\n",
    "    barrier_type=\"down_and_in\",\n",
    ")\n",
    "\n",
    "down_and_out_put_option = BarrierOption(\n",
    "    strike=110,\n",
    "    maturity=1.0,        # 1 year\n",
    "    option_type=\"put\",\n",
    "    barrier_level=80,\n",
    "    barrier_type=\"down_and_out\",\n",
    ")\n",
    "\n",
    "instruments = [down_and_in_call_option, down_and_out_call_option, up_and_in_call_option, up_and_out_call_option,\n",
    "               down_and_in_put_option, down_and_out_put_option, up_and_in_put_option, up_and_out_put_option]"
   ],
   "id": "71560b8e5b1e44b6",
   "outputs": [],
   "execution_count": 3
  },
  {
   "metadata": {
    "ExecuteTime": {
     "end_time": "2025-01-16T14:18:21.910202Z",
     "start_time": "2025-01-16T14:18:21.907646Z"
    }
   },
   "cell_type": "code",
   "source": [
    "# 3. Create Pricing Engines\n",
    "\n",
    "bs_engine = BlackScholesEngine(\n",
    "    interest_rate=0.02,\n",
    "    volatility=0.20,\n",
    "    spot_price=market.get_spot_price(\"STOCK_XYZ\"),\n",
    "    dividend_yield=0.0\n",
    ")\n",
    "\n",
    "mc_engine = MonteCarloEngine(\n",
    "    interest_rate=0.02,\n",
    "    volatility=0.20,\n",
    "    spot_price=market.get_spot_price(\"STOCK_XYZ\"),\n",
    "    dividend_yield=0.0,\n",
    "    n_paths=1000000,\n",
    "    n_steps=252\n",
    ")\n",
    "\n",
    "pde_engine = PDEPricingEngine(\n",
    "    interest_rate=0.02,\n",
    "    volatility=0.20,\n",
    "    spot_price=market.get_spot_price(\"STOCK_XYZ\"),\n",
    "    dividend_yield=0.0,\n",
    "    nx=2300,\n",
    "    nt=252\n",
    ")\n",
    "\n",
    "pricing_engines = [bs_engine, mc_engine, pde_engine]"
   ],
   "id": "8cc53fcb7b818483",
   "outputs": [],
   "execution_count": 4
  },
  {
   "metadata": {
    "ExecuteTime": {
     "end_time": "2025-01-16T14:30:33.695833Z",
     "start_time": "2025-01-16T14:18:21.915153Z"
    }
   },
   "cell_type": "code",
   "source": [
    "# Print table header\n",
    "print(f\"{'Option Price':<15}{'Pricing Engine':<20}{'S0':<10}{'Sigma':<10}{'r':<10}{'Strike (K)':<15}{'Barrier (B)':<15}{'Maturity':<10}{'Option Type':<15}{'Barrier Type':<20}\")\n",
    "print(\"=\" * 140)\n",
    "\n",
    "# 4. Create a Valuation Request and run valuations\n",
    "for instrument in instruments:\n",
    "    # Get parameters\n",
    "    strike = instrument.strike\n",
    "    maturity = instrument.maturity\n",
    "    option_type = instrument.option_type\n",
    "    barrier_level = instrument.barrier_level\n",
    "    barrier_type = instrument.barrier_type\n",
    "    \n",
    "    for pricing_engine in pricing_engines:\n",
    "        # Get parameters\n",
    "        pricing_engine_name = pricing_engine.__class__.__name__\n",
    "        r = pricing_engine.r\n",
    "        sigma = pricing_engine.sigma\n",
    "        S0 = pricing_engine.S0\n",
    "        \n",
    "        valuation_req = ValuationRequest(instrument=instrument, pricer=pricing_engine, market=market)\n",
    "        fair_value = valuation_req.run_valuation()\n",
    "        \n",
    "        # Print data in tabular format\n",
    "        print(f\"{round(fair_value, 4):<15}{pricing_engine_name:<20}{S0:<10}{sigma:<10}{r:<10}{strike:<15}{barrier_level:<15}{maturity:<10}{option_type:<15}{barrier_type:<15}\")\n"
   ],
   "id": "c00eeda617bc4739",
   "outputs": [
    {
     "name": "stdout",
     "output_type": "stream",
     "text": [
      "Option Price   Pricing Engine      S0        Sigma     r         Strike (K)     Barrier (B)    Maturity  Option Type    Barrier Type        \n",
      "============================================================================================================================================\n",
      "0.0236         BlackScholesEngine  100.0     0.2       0.02      110            80             1.0       call           down_and_in    \n",
      "0.0187         MonteCarloEngine    100.0     0.2       0.02      110            80             1.0       call           down_and_in    \n",
      "0.0448         PDEPricingEngine    100.0     0.2       0.02      110            80             1.0       call           down_and_in    \n",
      "4.9203         BlackScholesEngine  100.0     0.2       0.02      110            80             1.0       call           down_and_out   \n",
      "4.9324         MonteCarloEngine    100.0     0.2       0.02      110            80             1.0       call           down_and_out   \n",
      "4.9133         PDEPricingEngine    100.0     0.2       0.02      110            80             1.0       call           down_and_out   \n",
      "11.1293        BlackScholesEngine  100.0     0.2       0.02      90             120            1.0       call           up_and_in      \n",
      "10.8523        MonteCarloEngine    100.0     0.2       0.02      90             120            1.0       call           up_and_in      \n",
      "10.82          PDEPricingEngine    100.0     0.2       0.02      90             120            1.0       call           up_and_in      \n",
      "3.6772         BlackScholesEngine  100.0     0.2       0.02      90             120            1.0       call           up_and_out     \n",
      "3.9747         MonteCarloEngine    100.0     0.2       0.02      90             120            1.0       call           up_and_out     \n",
      "4.0171         PDEPricingEngine    100.0     0.2       0.02      90             120            1.0       call           up_and_out     \n",
      "7.6196         BlackScholesEngine  100.0     0.2       0.02      110            80             1.0       put            down_and_in    \n",
      "7.3308         MonteCarloEngine    100.0     0.2       0.02      110            80             1.0       put            down_and_in    \n",
      "7.1763         PDEPricingEngine    100.0     0.2       0.02      110            80             1.0       put            down_and_in    \n",
      "5.1461         BlackScholesEngine  100.0     0.2       0.02      110            80             1.0       put            down_and_out   \n",
      "5.4483         MonteCarloEngine    100.0     0.2       0.02      110            80             1.0       put            down_and_out   \n",
      "5.5603         PDEPricingEngine    100.0     0.2       0.02      110            80             1.0       put            down_and_out   \n",
      "0.0525         BlackScholesEngine  100.0     0.2       0.02      90             120            1.0       put            up_and_in      \n",
      "0.0427         MonteCarloEngine    100.0     0.2       0.02      90             120            1.0       put            up_and_in      \n",
      "0.0474         PDEPricingEngine    100.0     0.2       0.02      90             120            1.0       put            up_and_in      \n",
      "2.9719         BlackScholesEngine  100.0     0.2       0.02      90             120            1.0       put            up_and_out     \n",
      "2.9695         MonteCarloEngine    100.0     0.2       0.02      90             120            1.0       put            up_and_out     \n",
      "2.9642         PDEPricingEngine    100.0     0.2       0.02      90             120            1.0       put            up_and_out     \n"
     ]
    }
   ],
   "execution_count": 5
  },
  {
   "metadata": {
    "ExecuteTime": {
     "end_time": "2025-01-16T14:30:33.726537Z",
     "start_time": "2025-01-16T14:30:33.724040Z"
    }
   },
   "cell_type": "code",
   "source": "",
   "id": "7505114830b2336d",
   "outputs": [],
   "execution_count": null
  }
 ],
 "metadata": {
  "kernelspec": {
   "display_name": "Python 3",
   "language": "python",
   "name": "python3"
  },
  "language_info": {
   "codemirror_mode": {
    "name": "ipython",
    "version": 2
   },
   "file_extension": ".py",
   "mimetype": "text/x-python",
   "name": "python",
   "nbconvert_exporter": "python",
   "pygments_lexer": "ipython2",
   "version": "2.7.6"
  }
 },
 "nbformat": 4,
 "nbformat_minor": 5
}

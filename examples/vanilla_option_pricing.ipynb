{
 "cells": [
  {
   "cell_type": "code",
   "id": "initial_id",
   "metadata": {
    "collapsed": true,
    "ExecuteTime": {
     "end_time": "2025-01-15T04:14:21.943664Z",
     "start_time": "2025-01-15T04:14:21.267652Z"
    }
   },
   "source": [
    "# 0. Import modules\n",
    "from src.instruments.vanilla_option import VanillaOption\n",
    "from src.market_data.market import Market\n",
    "\n",
    "from src.models.black_scholes.black_scholes_pricing import BlackScholesEngine\n",
    "from src.models.pde.pde_pricing import PDEPricingEngine\n",
    "from src.models.monte_carlo.monte_carlo_pricing import MonteCarloEngine\n",
    "\n",
    "from src.valuation.valuation_request import ValuationRequest"
   ],
   "outputs": [],
   "execution_count": 1
  },
  {
   "metadata": {
    "ExecuteTime": {
     "end_time": "2025-01-15T04:14:38.847929Z",
     "start_time": "2025-01-15T04:14:38.842349Z"
    }
   },
   "cell_type": "code",
   "source": [
    "# 1. Create a Market object\n",
    "market = Market(\n",
    "    yield_curve=None,  # a yield curve object or mock\n",
    "    vol_surface_dict={},\n",
    "    spot_prices={\"STOCK_XYZ\": 100.0}\n",
    ")"
   ],
   "id": "ad6f4ed0829839e9",
   "outputs": [],
   "execution_count": 2
  },
  {
   "metadata": {
    "ExecuteTime": {
     "end_time": "2025-01-15T04:22:06.707753Z",
     "start_time": "2025-01-15T04:22:06.702072Z"
    }
   },
   "cell_type": "code",
   "source": [
    "# 2. Construct vanilla option Instruments\n",
    "eu_call_1 = VanillaOption(\n",
    "    strike=80,\n",
    "    maturity=1.0,        # 1 year\n",
    "    option_type=\"call\",\n",
    "    exercise_style=\"european\"\n",
    ")\n",
    "\n",
    "eu_call_2 = VanillaOption(\n",
    "    strike=100,\n",
    "    maturity=1.0,        # 1 year\n",
    "    option_type=\"call\",\n",
    "    exercise_style=\"european\"\n",
    ")\n",
    "\n",
    "eu_call_3 = VanillaOption(\n",
    "    strike=120,\n",
    "    maturity=1.0,        # 1 year\n",
    "    option_type=\"call\",\n",
    "    exercise_style=\"european\"\n",
    ")\n",
    "\n",
    "eu_put_1 = VanillaOption(\n",
    "    strike=80,\n",
    "    maturity=1.0,        # 1 year\n",
    "    option_type=\"put\",\n",
    "    exercise_style=\"european\"\n",
    ")\n",
    "\n",
    "eu_put_2 = VanillaOption(\n",
    "    strike=100,\n",
    "    maturity=1.0,        # 1 year\n",
    "    option_type=\"put\",\n",
    "    exercise_style=\"european\"\n",
    ")\n",
    "\n",
    "eu_put_3 = VanillaOption(\n",
    "    strike=120,\n",
    "    maturity=1.0,        # 1 year\n",
    "    option_type=\"put\",\n",
    "    exercise_style=\"european\"\n",
    ")\n",
    "\n",
    "instruments = [eu_call_1, eu_call_2, eu_call_3, eu_put_1, eu_put_2, eu_put_3]"
   ],
   "id": "270ebdf5750df0dd",
   "outputs": [],
   "execution_count": 3
  },
  {
   "metadata": {
    "ExecuteTime": {
     "end_time": "2025-01-15T04:22:08.599769Z",
     "start_time": "2025-01-15T04:22:08.597264Z"
    }
   },
   "cell_type": "code",
   "source": [
    "# 3. Create Pricing Engines\n",
    "\n",
    "bs_engine = BlackScholesEngine(\n",
    "    interest_rate=0.02,\n",
    "    volatility=0.20,\n",
    "    spot_price=market.get_spot_price(\"STOCK_XYZ\"),\n",
    "    dividend_yield=0.0\n",
    ")\n",
    "\n",
    "mc_engine = MonteCarloEngine(\n",
    "    interest_rate=0.02,\n",
    "    volatility=0.20,\n",
    "    spot_price=market.get_spot_price(\"STOCK_XYZ\"),\n",
    "    dividend_yield=0.0,\n",
    "    n_paths=1000000,\n",
    "    n_steps=252\n",
    ")\n",
    "\n",
    "pde_engine = PDEPricingEngine(\n",
    "    interest_rate=0.02,\n",
    "    volatility=0.20,\n",
    "    spot_price=market.get_spot_price(\"STOCK_XYZ\"),\n",
    "    dividend_yield=0.0,\n",
    "    nx=300,\n",
    "    nt=252\n",
    ")\n",
    "\n",
    "pricing_engines = [bs_engine, mc_engine, pde_engine]"
   ],
   "id": "c8ee26146ad17150",
   "outputs": [],
   "execution_count": 4
  },
  {
   "metadata": {
    "ExecuteTime": {
     "end_time": "2025-01-15T04:47:29.594401Z",
     "start_time": "2025-01-15T04:34:12.049974Z"
    }
   },
   "cell_type": "code",
   "source": [
    "# Print table header\n",
    "print(f\"{'Option Price':<15}{'Pricing Engine':<20}{'S0':<10}{'Sigma':<10}{'r':<10}{'Strike (K)':<15}{'Maturity':<10}{'Option Type':<15}{'Exercise Style':<15}\")\n",
    "print(\"=\" * 120)\n",
    "\n",
    "# 4. Create a Valuation Request and run valuations\n",
    "for instrument in instruments:\n",
    "    # Get parameters\n",
    "    strike = instrument.strike\n",
    "    maturity = instrument.maturity\n",
    "    option_type = instrument.option_type\n",
    "    exercise_style = instrument.exercise_style\n",
    "    \n",
    "    for pricing_engine in pricing_engines:\n",
    "        # Get parameters\n",
    "        pricing_engine_name = pricing_engine.__class__.__name__\n",
    "        r = pricing_engine.r\n",
    "        sigma = pricing_engine.sigma\n",
    "        S0 = pricing_engine.S0\n",
    "        \n",
    "        valuation_req = ValuationRequest(instrument=instrument, pricer=pricing_engine, market=market)\n",
    "        fair_value = valuation_req.run_valuation()\n",
    "        \n",
    "        # Print data in tabular format\n",
    "        print(f\"{round(fair_value, 4):<15}{pricing_engine_name:<20}{S0:<10}{sigma:<10}{r:<10}{strike:<15}{maturity:<10}{option_type:<15}{exercise_style:<15}\")\n"
   ],
   "id": "854c0154376318f4",
   "outputs": [
    {
     "name": "stdout",
     "output_type": "stream",
     "text": [
      "Option Price   Pricing Engine      S0        Sigma     r         Strike (K)     Maturity  Option Type    Exercise Style \n",
      "========================================================================================================================\n",
      "22.5429        BlackScholesEngine  100.0     0.2       0.02      80             1.0       call           european       \n",
      "22.5656        MonteCarloEngine    100.0     0.2       0.02      80             1.0       call           european       \n",
      "22.5428        PDEPricingEngine    100.0     0.2       0.02      80             1.0       call           european       \n",
      "8.916          BlackScholesEngine  100.0     0.2       0.02      100            1.0       call           european       \n",
      "8.915          MonteCarloEngine    100.0     0.2       0.02      100            1.0       call           european       \n",
      "8.9119         PDEPricingEngine    100.0     0.2       0.02      100            1.0       call           european       \n",
      "2.5469         BlackScholesEngine  100.0     0.2       0.02      120            1.0       call           european       \n",
      "2.5371         MonteCarloEngine    100.0     0.2       0.02      120            1.0       call           european       \n",
      "2.5468         PDEPricingEngine    100.0     0.2       0.02      120            1.0       call           european       \n",
      "0.9587         BlackScholesEngine  100.0     0.2       0.02      80             1.0       put            european       \n",
      "0.9603         MonteCarloEngine    100.0     0.2       0.02      80             1.0       put            european       \n",
      "0.9587         PDEPricingEngine    100.0     0.2       0.02      80             1.0       put            european       \n",
      "6.9359         BlackScholesEngine  100.0     0.2       0.02      100            1.0       put            european       \n",
      "6.9431         MonteCarloEngine    100.0     0.2       0.02      100            1.0       put            european       \n",
      "6.9319         PDEPricingEngine    100.0     0.2       0.02      100            1.0       put            european       \n",
      "20.1708        BlackScholesEngine  100.0     0.2       0.02      120            1.0       put            european       \n",
      "20.1675        MonteCarloEngine    100.0     0.2       0.02      120            1.0       put            european       \n",
      "20.1708        PDEPricingEngine    100.0     0.2       0.02      120            1.0       put            european       \n"
     ]
    }
   ],
   "execution_count": 11
  }
 ],
 "metadata": {
  "kernelspec": {
   "display_name": "Python 3",
   "language": "python",
   "name": "python3"
  },
  "language_info": {
   "codemirror_mode": {
    "name": "ipython",
    "version": 2
   },
   "file_extension": ".py",
   "mimetype": "text/x-python",
   "name": "python",
   "nbconvert_exporter": "python",
   "pygments_lexer": "ipython2",
   "version": "2.7.6"
  }
 },
 "nbformat": 4,
 "nbformat_minor": 5
}

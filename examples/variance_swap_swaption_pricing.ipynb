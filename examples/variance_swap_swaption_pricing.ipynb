{
 "cells": [
  {
   "cell_type": "code",
   "id": "initial_id",
   "metadata": {
    "collapsed": true,
    "ExecuteTime": {
     "end_time": "2025-01-15T07:01:09.918557Z",
     "start_time": "2025-01-15T07:01:09.582370Z"
    }
   },
   "source": [
    "# 0. Import modules\n",
    "from src.instruments.vanilla_option import VanillaOption\n",
    "from src.instruments.barrier_option import BarrierOption\n",
    "from src.instruments.variance_swap_swaption import Variance_Swap_Swaption\n",
    "from src.market_data.market import Market\n",
    "\n",
    "from src.models.black_scholes.black_scholes_pricing import BlackScholesEngine\n",
    "from src.models.pde.pde_pricing import PDEPricingEngine\n",
    "from src.models.monte_carlo.monte_carlo_pricing import MonteCarloEngine\n",
    "\n",
    "from src.valuation.valuation_request import ValuationRequest"
   ],
   "outputs": [],
   "execution_count": 1
  },
  {
   "metadata": {
    "ExecuteTime": {
     "end_time": "2025-01-15T07:01:09.933059Z",
     "start_time": "2025-01-15T07:01:09.931083Z"
    }
   },
   "cell_type": "code",
   "source": [
    "# 1. Create a Market object\n",
    "market = Market(\n",
    "    yield_curve=None,  # a yield curve object or mock\n",
    "    vol_surface_dict={},\n",
    "    spot_prices={\"Variance_Swap_Spot\": 0.2},\n",
    ")"
   ],
   "id": "e108e879d54bbfbf",
   "outputs": [],
   "execution_count": 2
  },
  {
   "metadata": {
    "ExecuteTime": {
     "end_time": "2025-01-15T07:01:10.004458Z",
     "start_time": "2025-01-15T07:01:10.002467Z"
    }
   },
   "cell_type": "code",
   "source": [
    "# 2. Construct vanilla option Instruments\n",
    "variance_swap_swaption = Variance_Swap_Swaption(\n",
    "    K=0.2,\n",
    "    T1=0.5,        \n",
    "    T2=1.0,\n",
    ")\n",
    "\n",
    "instruments = [variance_swap_swaption]"
   ],
   "id": "5626b783f0d61ca6",
   "outputs": [],
   "execution_count": 3
  },
  {
   "metadata": {
    "ExecuteTime": {
     "end_time": "2025-01-15T07:02:47.562444Z",
     "start_time": "2025-01-15T07:02:47.560391Z"
    }
   },
   "cell_type": "code",
   "source": [
    "# 3. Create Pricing Engines\n",
    "\n",
    "mc_engine = MonteCarloEngine(\n",
    "    interest_rate=0.01,\n",
    "    volatility=0.20,\n",
    "    spot_price=market.get_spot_price(\"Variance_Swap_Spot\"),\n",
    "    dividend_yield=0.0,\n",
    "    n_paths=100000,\n",
    "    n_steps=252,\n",
    "    params={'nu':1.50, 'theta':0.312, 'k1':2.63, 'k2':0.42, 'rho':-0.7}\n",
    ")\n",
    "\n",
    "pricing_engines = [mc_engine]"
   ],
   "id": "2a0b5002799a06bd",
   "outputs": [],
   "execution_count": 6
  },
  {
   "metadata": {
    "ExecuteTime": {
     "end_time": "2025-01-15T08:20:44.177235Z",
     "start_time": "2025-01-15T07:02:48.048163Z"
    }
   },
   "cell_type": "code",
   "source": [
    "# Print table header\n",
    "print(f\"{'Option Price':<15}{'Pricing Engine':<20}{'S0':<10}{'Sigma':<10}{'r':<10}{'Strike (K)':<15}{'Maturity':<10}\")\n",
    "print(\"=\" * 90)\n",
    "\n",
    "# 4. Create a Valuation Request and run valuations\n",
    "for instrument in instruments:\n",
    "    # Get parameters\n",
    "    strike = instrument.K\n",
    "    maturity = instrument.T1\n",
    "    \n",
    "    for pricing_engine in pricing_engines:\n",
    "        # Get parameters\n",
    "        pricing_engine_name = pricing_engine.__class__.__name__\n",
    "        r = pricing_engine.r\n",
    "        sigma = pricing_engine.sigma\n",
    "        S0 = pricing_engine.S0\n",
    "        \n",
    "        valuation_req = ValuationRequest(instrument=instrument, pricer=pricing_engine, market=market)\n",
    "        fair_value = valuation_req.run_valuation()\n",
    "        \n",
    "        # Print data in tabular format\n",
    "        print(f\"{round(fair_value, 4):<15}{pricing_engine_name:<20}{S0:<10}{sigma:<10}{r:<10}{strike:<15}{maturity:<10}\")\n"
   ],
   "id": "b2ac552694eb6783",
   "outputs": [
    {
     "name": "stdout",
     "output_type": "stream",
     "text": [
      "Option Price   Pricing Engine      S0        Sigma     r         Strike (K)     Maturity  \n",
      "==========================================================================================\n"
     ]
    },
    {
     "name": "stderr",
     "output_type": "stream",
     "text": [
      "100%|██████████| 1000/1000 [1:17:54<00:00,  4.67s/it]  \n",
      "100%|██████████| 100000/100000 [00:00<00:00, 116393.44it/s]"
     ]
    },
    {
     "name": "stdout",
     "output_type": "stream",
     "text": [
      "0.062          MonteCarloEngine    0.2       0.2       0.01      0.2            0.5       \n"
     ]
    },
    {
     "name": "stderr",
     "output_type": "stream",
     "text": [
      "\n"
     ]
    }
   ],
   "execution_count": 7
  },
  {
   "metadata": {},
   "cell_type": "code",
   "source": "",
   "id": "7dd389e2e5001365",
   "outputs": [],
   "execution_count": null
  },
  {
   "metadata": {},
   "cell_type": "code",
   "source": "",
   "id": "7da4ab931a11d3a8",
   "outputs": [],
   "execution_count": null
  },
  {
   "metadata": {},
   "cell_type": "code",
   "source": "",
   "id": "64b049f170ddff42",
   "outputs": [],
   "execution_count": null
  },
  {
   "metadata": {},
   "cell_type": "code",
   "source": "",
   "id": "e7b6c8e62de90284",
   "outputs": [],
   "execution_count": null
  },
  {
   "metadata": {},
   "cell_type": "code",
   "source": "",
   "id": "ff41be0ec32b3d45",
   "outputs": [],
   "execution_count": null
  },
  {
   "metadata": {},
   "cell_type": "code",
   "source": "",
   "id": "db61b5bb2f652e8d",
   "outputs": [],
   "execution_count": null
  },
  {
   "metadata": {},
   "cell_type": "code",
   "source": "",
   "id": "e5a5ba3006cac552",
   "outputs": [],
   "execution_count": null
  },
  {
   "metadata": {},
   "cell_type": "code",
   "source": "",
   "id": "4a5ab794daa97a82",
   "outputs": [],
   "execution_count": null
  }
 ],
 "metadata": {
  "kernelspec": {
   "display_name": "Python 3",
   "language": "python",
   "name": "python3"
  },
  "language_info": {
   "codemirror_mode": {
    "name": "ipython",
    "version": 2
   },
   "file_extension": ".py",
   "mimetype": "text/x-python",
   "name": "python",
   "nbconvert_exporter": "python",
   "pygments_lexer": "ipython2",
   "version": "2.7.6"
  }
 },
 "nbformat": 4,
 "nbformat_minor": 5
}
